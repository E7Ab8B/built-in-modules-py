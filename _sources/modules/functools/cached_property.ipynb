{
 "cells": [
  {
   "cell_type": "markdown",
   "metadata": {},
   "source": [
    "# `cached_property()`\n",
    "\n",
    "<https://docs.python.org/3/library/functools.html#functools.cached_property>"
   ]
  },
  {
   "cell_type": "markdown",
   "metadata": {},
   "source": [
    "## Syntax\n",
    "\n",
    "```python\n",
    "from functools import cached_property\n",
    "\n",
    "cached_property(func)\n",
    "```"
   ]
  },
  {
   "cell_type": "markdown",
   "metadata": {},
   "source": [
    "## Description\n",
    "\n",
    "Transform a method of a class into a property whose value is computed once and\n",
    "then cached as a normal attribute for the life of the instance. Similar to\n",
    "`property`, with the addition of caching.\n",
    "\n",
    "Useful for expensive computed properties of instances that are otherwise\n",
    "effectively immutable.\n",
    "\n",
    "### Note\n",
    "\n",
    "> The mechanics of `cached_property()` are somewhat different from `property()`.\n",
    "> A regular property blocks attribute writes unless a setter is defined. In\n",
    "> contrast, a cached_property **allows writes**.\n",
    ">\n",
    "> The `cached_property()` decorator only runs on lookups and only when an\n",
    "> attribute of the **same name doesn't exist**. When it does run, the\n",
    "> cached_property writes to the attribute with the same name. Subsequent\n",
    "> attribute reads and writes take precedence over the cached_property method and\n",
    "> it works like a normal attribute.\n",
    ">\n",
    "> The cached value can be cleared by **deleting the attribute**. This allows the\n",
    "> `cached_property()` method to run again."
   ]
  },
  {
   "cell_type": "markdown",
   "metadata": {},
   "source": [
    "## Examples"
   ]
  },
  {
   "cell_type": "markdown",
   "metadata": {},
   "source": [
    "### Example #1"
   ]
  },
  {
   "cell_type": "code",
   "execution_count": null,
   "metadata": {},
   "outputs": [],
   "source": [
    "import statistics\n",
    "from functools import cached_property\n",
    "from typing import Sequence"
   ]
  },
  {
   "cell_type": "code",
   "execution_count": null,
   "metadata": {},
   "outputs": [],
   "source": [
    "class DataSet:\n",
    "    def __init__(self, sequence_of_numbers: Sequence[float]) -> None:\n",
    "        self._data = sequence_of_numbers\n",
    "\n",
    "    @cached_property\n",
    "    def stdev(self) -> float:\n",
    "        return statistics.stdev(self._data)\n",
    "\n",
    "    @cached_property\n",
    "    def variance(self) -> float:\n",
    "        return statistics.variance(self._data)"
   ]
  },
  {
   "cell_type": "code",
   "execution_count": null,
   "metadata": {},
   "outputs": [],
   "source": [
    "observations = DataSet(range(10, 101, 10))"
   ]
  },
  {
   "cell_type": "code",
   "execution_count": null,
   "metadata": {},
   "outputs": [],
   "source": [
    "observations.stdev"
   ]
  },
  {
   "cell_type": "code",
   "execution_count": null,
   "metadata": {},
   "outputs": [],
   "source": [
    "observations.variance"
   ]
  },
  {
   "cell_type": "markdown",
   "metadata": {},
   "source": [
    "\n",
    "---\n",
    "\n",
    "> If a **mutable mapping** is not available or if space-efficient key sharing is\n",
    "> desired, an effect similar to `cached_property()` can be achieved by a stacking\n",
    "> `property()` on top of `cache()`:"
   ]
  },
  {
   "cell_type": "code",
   "execution_count": null,
   "metadata": {},
   "outputs": [],
   "source": [
    "from functools import cache\n",
    "from typing import Sequence"
   ]
  },
  {
   "cell_type": "code",
   "execution_count": null,
   "metadata": {},
   "outputs": [],
   "source": [
    "class DataSet:\n",
    "    __slots__ = (\"_data\",)\n",
    "\n",
    "    def __init__(self, sequence_of_numbers: Sequence[float]) -> None:\n",
    "        self._data = sequence_of_numbers\n",
    "\n",
    "    @property\n",
    "    @cache\n",
    "    def stdev(self) -> float:\n",
    "        return statistics.stdev(self._data)"
   ]
  },
  {
   "cell_type": "code",
   "execution_count": null,
   "metadata": {},
   "outputs": [],
   "source": [
    "observations = DataSet(range(10, 101, 10))"
   ]
  },
  {
   "cell_type": "code",
   "execution_count": null,
   "metadata": {},
   "outputs": [],
   "source": [
    "observations.stdev"
   ]
  }
 ],
 "metadata": {
  "language_info": {
   "name": "python"
  }
 },
 "nbformat": 4,
 "nbformat_minor": 2
}
