{
 "cells": [
  {
   "cell_type": "markdown",
   "metadata": {},
   "source": [
    "# `cmp_to_key()`\n",
    "\n",
    "<https://docs.python.org/3/library/functools.html#functools.cmp_to_key>"
   ]
  },
  {
   "cell_type": "markdown",
   "metadata": {},
   "source": [
    "## Syntax\n",
    "\n",
    "```python\n",
    "from functools import cmp_to_key\n",
    "\n",
    "cmp_to_key(func)\n",
    "```"
   ]
  },
  {
   "cell_type": "markdown",
   "metadata": {},
   "source": [
    "## Description\n",
    "\n",
    "Convert a comparison function into a key function.  \n",
    "This function is primarily used as a transition tool for programs being\n",
    "converted from Python 2 which supported the use of comparison functions.\n",
    "\n",
    "### Note\n",
    "\n",
    "> A comparison function is any callable that accept two arguments, compares them,\n",
    "> and returns a negative number for less-than, zero for equality, or a positive\n",
    "> number for greater-than.\n",
    "> \n",
    "> A key function is a callable that accepts one argument and returns another value\n",
    "> to be used as the sort key.\n",
    "> \n",
    "> It is common to encounter comparison functions when translating algorithms from\n",
    "> other languages. Also, some libraries provide comparison functions as part of\n",
    "> their API. For example, `locale.strcoll()` is a comparison function."
   ]
  },
  {
   "cell_type": "markdown",
   "metadata": {},
   "source": [
    "## Usage\n",
    "\n",
    "- Converting Python 2 code to Python 3 code\n",
    "- Sorting Custom Objects\n",
    "- Sorting with Complex Comparison Logic"
   ]
  },
  {
   "cell_type": "markdown",
   "metadata": {},
   "source": [
    "## Examples"
   ]
  },
  {
   "cell_type": "markdown",
   "metadata": {},
   "source": [
    "### Example #1"
   ]
  },
  {
   "cell_type": "code",
   "execution_count": null,
   "metadata": {},
   "outputs": [],
   "source": [
    "from functools import cmp_to_key\n",
    "from typing import Literal"
   ]
  },
  {
   "cell_type": "code",
   "execution_count": null,
   "metadata": {},
   "outputs": [],
   "source": [
    "def compare(a, b) -> Literal[-1, 0, 1]:\n",
    "    return (a > b) - (a < b)"
   ]
  },
  {
   "cell_type": "code",
   "execution_count": null,
   "metadata": {},
   "outputs": [],
   "source": [
    "iterable = [\"Foo\", \"a\", \"b\", \"A\", \"F\", \"Bar\"]"
   ]
  },
  {
   "cell_type": "code",
   "execution_count": null,
   "metadata": {},
   "outputs": [],
   "source": [
    "list(sorted(iterable, key=cmp_to_key(compare)))"
   ]
  },
  {
   "cell_type": "markdown",
   "metadata": {},
   "source": [
    "### Example #2"
   ]
  },
  {
   "cell_type": "code",
   "execution_count": null,
   "metadata": {},
   "outputs": [],
   "source": [
    "from functools import cmp_to_key\n",
    "from typing import Literal"
   ]
  },
  {
   "cell_type": "code",
   "execution_count": null,
   "metadata": {},
   "outputs": [],
   "source": [
    "class Player:\n",
    "    def __init__(self, name: str, score: int) -> None:\n",
    "        self.name = name\n",
    "        self.score = score\n",
    "\n",
    "    def __repr__(self) -> str:\n",
    "        return f\"Player(name='{self.name}', score={self.score})\""
   ]
  },
  {
   "cell_type": "code",
   "execution_count": null,
   "metadata": {},
   "outputs": [],
   "source": [
    "def compare_players(player1: Player, player2: Player) -> Literal[-1, 1, 0]:\n",
    "    if player1.score < player2.score:\n",
    "        return -1\n",
    "    if player1.score > player2.score:\n",
    "        return 1\n",
    "    return 0"
   ]
  },
  {
   "cell_type": "code",
   "execution_count": null,
   "metadata": {},
   "outputs": [],
   "source": [
    "players = [\n",
    "    Player(\"Alice\", 80),\n",
    "    Player(\"Bob\", 65),\n",
    "    Player(\"Charlie\", 90),\n",
    "    Player(\"Dave\", 75),\n",
    "]"
   ]
  },
  {
   "cell_type": "code",
   "execution_count": null,
   "metadata": {},
   "outputs": [],
   "source": [
    "sorted_players = sorted(players, key=cmp_to_key(compare_players))"
   ]
  },
  {
   "cell_type": "code",
   "execution_count": null,
   "metadata": {},
   "outputs": [],
   "source": [
    "for player in sorted_players:\n",
    "    print(player)"
   ]
  }
 ],
 "metadata": {
  "language_info": {
   "name": "python"
  }
 },
 "nbformat": 4,
 "nbformat_minor": 2
}
