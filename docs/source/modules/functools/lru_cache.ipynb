{
 "cells": [
  {
   "attachments": {},
   "cell_type": "markdown",
   "metadata": {},
   "source": [
    "# `lru_cache()`\n",
    "\n",
    "<https://docs.python.org/3/library/functools.html#functools.lru_cache>"
   ]
  },
  {
   "attachments": {},
   "cell_type": "markdown",
   "metadata": {},
   "source": [
    "## Syntax\n",
    "\n",
    "```python\n",
    "from functools import lru_cache\n",
    "\n",
    "lru_cache(user_function)\n",
    "lru_cache(maxsize=128, typed=False)\n",
    "```"
   ]
  },
  {
   "attachments": {},
   "cell_type": "markdown",
   "metadata": {},
   "source": [
    "## Description\n",
    "\n",
    "Least-recently-used cache decorator.\n",
    "\n",
    "If `maxsize` is set to {py:obj}`None`, the LRU features are **disabled** and the **cache can grow without bound**.\n",
    "\n",
    "If `typed` is set to {py:obj}`True`, function arguments of different types will be cached separately.\n",
    "If `typed` is {py:obj}`False`, the implementation will usually regard them as equivalent calls and only cache a single result.\n",
    "(Some types such as {py:obj}`str` and {py:obj}`int` may be cached separately even when `typed` is {py:obj}`False`.)\n",
    "\n",
    "### Note\n",
    "\n",
    "> **The cache is threadsafe so that the wrapped function can be used in multiple threads.** This means that the underlying data structure will remain coherent during concurrent updates.\n",
    ">\n",
    "> It is possible for the wrapped function to be called more than once if another thread makes an additional call before the initial call has been completed and cached."
   ]
  },
  {
   "cell_type": "markdown",
   "metadata": {},
   "source": [
    "## Usage\n",
    "\n",
    "- Memoization for Recursive Functions\n",
    "- Expensive Computations\n",
    "- Web Scraping\n",
    "- Database Queries\n",
    "- API Requests"
   ]
  },
  {
   "attachments": {},
   "cell_type": "markdown",
   "metadata": {},
   "source": [
    "## Examples"
   ]
  },
  {
   "attachments": {},
   "cell_type": "markdown",
   "metadata": {},
   "source": [
    "### Example #1"
   ]
  },
  {
   "cell_type": "code",
   "execution_count": null,
   "metadata": {},
   "outputs": [],
   "source": [
    "from functools import lru_cache"
   ]
  },
  {
   "cell_type": "code",
   "execution_count": null,
   "metadata": {},
   "outputs": [],
   "source": [
    "@lru_cache(maxsize=None)\n",
    "def fibonacci(n: int) -> int:\n",
    "    return n if n < 2 else fibonacci(n-1) + fibonacci(n-2)"
   ]
  },
  {
   "cell_type": "code",
   "execution_count": null,
   "metadata": {},
   "outputs": [],
   "source": [
    "print(fibonacci(10))\n",
    "print(fibonacci.cache_info())"
   ]
  },
  {
   "cell_type": "code",
   "execution_count": null,
   "metadata": {},
   "outputs": [],
   "source": [
    "print(fibonacci(11))\n",
    "print(fibonacci.cache_info())"
   ]
  },
  {
   "attachments": {},
   "cell_type": "markdown",
   "metadata": {},
   "source": [
    "### Example #2"
   ]
  },
  {
   "cell_type": "code",
   "execution_count": null,
   "metadata": {},
   "outputs": [],
   "source": [
    "import urllib.request\n",
    "import urllib.error\n",
    "from functools import lru_cache"
   ]
  },
  {
   "cell_type": "code",
   "execution_count": null,
   "metadata": {},
   "outputs": [],
   "source": [
    "@lru_cache(maxsize=32)\n",
    "def get_pep(num: int) -> bytes:\n",
    "    \"\"\"Retrieve text of a Python Enhancement Proposal.\"\"\"\n",
    "    resource = f\"https://www.python.org/dev/peps/pep-{num:04d}/\"\n",
    "    try:\n",
    "        with urllib.request.urlopen(resource) as s:\n",
    "            return s.read()\n",
    "    except urllib.error.HTTPError:\n",
    "        return b''"
   ]
  },
  {
   "cell_type": "code",
   "execution_count": null,
   "metadata": {},
   "outputs": [],
   "source": [
    "for pep in [8, 290, 308, 320, 8, 290]:\n",
    "    text = get_pep(pep)\n",
    "    print(f\"PEP: {pep}, Text length: {len(text)}\")"
   ]
  },
  {
   "cell_type": "code",
   "execution_count": null,
   "metadata": {},
   "outputs": [],
   "source": [
    "get_pep.cache_info()"
   ]
  }
 ],
 "metadata": {
  "kernelspec": {
   "display_name": "Python 3",
   "language": "python",
   "name": "python3"
  },
  "language_info": {
   "codemirror_mode": {
    "name": "ipython",
    "version": 3
   },
   "file_extension": ".py",
   "mimetype": "text/x-python",
   "name": "python",
   "nbconvert_exporter": "python",
   "pygments_lexer": "ipython3",
   "version": "3.12.0"
  },
  "orig_nbformat": 4,
  "vscode": {
   "interpreter": {
    "hash": "29ae8d872b87c140c69d7564cadefc23de14515f034d714be34d085bfed9373d"
   }
  }
 },
 "nbformat": 4,
 "nbformat_minor": 2
}
