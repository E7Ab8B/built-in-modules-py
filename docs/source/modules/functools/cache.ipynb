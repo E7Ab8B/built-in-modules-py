{
 "cells": [
  {
   "cell_type": "markdown",
   "metadata": {},
   "source": [
    "# `cache()`\n",
    "\n",
    "<https://docs.python.org/3/library/functools.html#functools.cache>"
   ]
  },
  {
   "cell_type": "markdown",
   "metadata": {},
   "source": [
    "## Syntax\n",
    "\n",
    "```python\n",
    "from functools import cache\n",
    "\n",
    "cache(user_functions)\n",
    "```"
   ]
  },
  {
   "cell_type": "markdown",
   "metadata": {},
   "source": [
    "## Description\n",
    "\n",
    "Decorator used for creating a simple lightweight unbounded function cache, sometimes referred to as **memoization**.\n",
    "\n",
    "### Note\n",
    "\n",
    "> Returns the same as `lru_cache(maxsize=None)`, creating a thin wrapper around a\n",
    "> dictionary lookup for the function arguments.  \n",
    "> Because it never needs to evict old values, this is smaller and faster than `lru_cache()` with a size limit.\n",
    ">\n",
    "> **The cache is threadsafe so that the wrapped function can be used in multiple threads.** This means that the underlying data structure will remain coherent during concurrent updates.\n",
    ">\n",
    "> It is possible for the wrapped function to be called more than once if another thread makes an additional call before the initial call has been completed and cached."
   ]
  },
  {
   "cell_type": "markdown",
   "metadata": {},
   "source": [
    "## Usage\n",
    "\n",
    "- Memoization for Recursive Functions\n",
    "- Expensive Computations\n",
    "- Web Scraping\n",
    "- Database Queries\n",
    "- API Requests"
   ]
  },
  {
   "cell_type": "markdown",
   "metadata": {},
   "source": [
    "## Examples"
   ]
  },
  {
   "cell_type": "markdown",
   "metadata": {},
   "source": [
    "### Example #1"
   ]
  },
  {
   "cell_type": "code",
   "execution_count": null,
   "metadata": {},
   "outputs": [],
   "source": [
    "from functools import cache"
   ]
  },
  {
   "cell_type": "code",
   "execution_count": null,
   "metadata": {},
   "outputs": [],
   "source": [
    "@cache\n",
    "def factorial(n: int) -> int:\n",
    "    return n * factorial(n - 1) if n else 1"
   ]
  },
  {
   "cell_type": "code",
   "execution_count": null,
   "metadata": {},
   "outputs": [],
   "source": [
    "print(factorial(5))\n",
    "print(factorial.cache_info())"
   ]
  },
  {
   "cell_type": "code",
   "execution_count": null,
   "metadata": {},
   "outputs": [],
   "source": [
    "print(factorial(6))\n",
    "print(factorial.cache_info())"
   ]
  },
  {
   "cell_type": "code",
   "execution_count": null,
   "metadata": {},
   "outputs": [],
   "source": [
    "print(factorial(10))\n",
    "print(factorial.cache_info())"
   ]
  },
  {
   "cell_type": "markdown",
   "metadata": {},
   "source": [
    "### Example #2"
   ]
  },
  {
   "cell_type": "code",
   "execution_count": null,
   "metadata": {},
   "outputs": [],
   "source": [
    "from functools import cache"
   ]
  },
  {
   "cell_type": "code",
   "execution_count": null,
   "metadata": {},
   "outputs": [],
   "source": [
    "@cache\n",
    "def fibonacci(n: int) -> int:\n",
    "    return n if n < 2 else fibonacci(n - 1) + fibonacci(n - 2)"
   ]
  },
  {
   "cell_type": "code",
   "execution_count": null,
   "metadata": {},
   "outputs": [],
   "source": [
    "print(fibonacci(10))\n",
    "print(fibonacci.cache_info())"
   ]
  },
  {
   "cell_type": "code",
   "execution_count": null,
   "metadata": {},
   "outputs": [],
   "source": [
    "print(fibonacci(11))\n",
    "print(fibonacci.cache_info())"
   ]
  }
 ],
 "metadata": {},
 "nbformat": 4,
 "nbformat_minor": 2
}
